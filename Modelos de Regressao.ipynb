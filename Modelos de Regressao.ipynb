{
 "cells": [
  {
   "cell_type": "markdown",
   "id": "6c2678cb",
   "metadata": {},
   "source": [
    "# Importando as Bibliotecas"
   ]
  },
  {
   "cell_type": "code",
   "execution_count": 8,
   "id": "ba0a0dbf",
   "metadata": {
    "ExecuteTime": {
     "end_time": "2023-04-24T19:19:18.781833Z",
     "start_time": "2023-04-24T19:18:51.542652Z"
    }
   },
   "outputs": [],
   "source": [
    "# \n",
    "import pandas as pd\n",
    "import numpy as np\n",
    "# Visualização \n",
    "import seaborn as sns\n",
    "import matplotlib.pyplot as plt\n",
    "# Modelos\n",
    "from sklearn.linear_model import LinearRegression\n",
    "from sklearn.neighbors import KNeighborsRegressor\n",
    "from sklearn.tree import DecisionTreeRegressor\n",
    "# \n",
    "from sklearn.model_selection import train_test_split\n",
    "# Metricas de validação\n",
    "from sklearn.metrics import r2_score as r2\n",
    "from sklearn.metrics import mean_absolute_error\n",
    "from sklearn.metrics import mean_squared_error  "
   ]
  },
  {
   "cell_type": "markdown",
   "id": "febe9b21",
   "metadata": {
    "heading_collapsed": true
   },
   "source": [
    "# DataFrame"
   ]
  },
  {
   "cell_type": "code",
   "execution_count": 2,
   "id": "e1b66212",
   "metadata": {
    "ExecuteTime": {
     "end_time": "2023-04-24T14:23:36.353529Z",
     "start_time": "2023-04-24T14:23:35.172884Z"
    },
    "hidden": true
   },
   "outputs": [
    {
     "data": {
      "text/html": [
       "<div>\n",
       "<style scoped>\n",
       "    .dataframe tbody tr th:only-of-type {\n",
       "        vertical-align: middle;\n",
       "    }\n",
       "\n",
       "    .dataframe tbody tr th {\n",
       "        vertical-align: top;\n",
       "    }\n",
       "\n",
       "    .dataframe thead th {\n",
       "        text-align: right;\n",
       "    }\n",
       "</style>\n",
       "<table border=\"1\" class=\"dataframe\">\n",
       "  <thead>\n",
       "    <tr style=\"text-align: right;\">\n",
       "      <th></th>\n",
       "      <th>precos</th>\n",
       "      <th>area</th>\n",
       "      <th>garagem</th>\n",
       "      <th>banheiros</th>\n",
       "      <th>lareira</th>\n",
       "      <th>marmore</th>\n",
       "      <th>andares</th>\n",
       "    </tr>\n",
       "  </thead>\n",
       "  <tbody>\n",
       "    <tr>\n",
       "      <th>0</th>\n",
       "      <td>51875</td>\n",
       "      <td>25</td>\n",
       "      <td>3</td>\n",
       "      <td>4</td>\n",
       "      <td>3</td>\n",
       "      <td>0</td>\n",
       "      <td>1</td>\n",
       "    </tr>\n",
       "    <tr>\n",
       "      <th>1</th>\n",
       "      <td>17875</td>\n",
       "      <td>35</td>\n",
       "      <td>1</td>\n",
       "      <td>3</td>\n",
       "      <td>1</td>\n",
       "      <td>0</td>\n",
       "      <td>0</td>\n",
       "    </tr>\n",
       "    <tr>\n",
       "      <th>2</th>\n",
       "      <td>47075</td>\n",
       "      <td>195</td>\n",
       "      <td>2</td>\n",
       "      <td>4</td>\n",
       "      <td>2</td>\n",
       "      <td>0</td>\n",
       "      <td>0</td>\n",
       "    </tr>\n",
       "  </tbody>\n",
       "</table>\n",
       "</div>"
      ],
      "text/plain": [
       "   precos  area  garagem  banheiros  lareira  marmore  andares\n",
       "0   51875    25        3          4        3        0        1\n",
       "1   17875    35        1          3        1        0        0\n",
       "2   47075   195        2          4        2        0        0"
      ]
     },
     "execution_count": 2,
     "metadata": {},
     "output_type": "execute_result"
    }
   ],
   "source": [
    "df = pd.read_csv('../1_bases_originais/HousePrices_HalfMil.csv', sep=';')\n",
    "df.head(3)"
   ]
  },
  {
   "cell_type": "markdown",
   "id": "3692606e",
   "metadata": {
    "heading_collapsed": true,
    "hidden": true
   },
   "source": [
    "## Caracteristicas do DF"
   ]
  },
  {
   "cell_type": "code",
   "execution_count": 3,
   "id": "c159681b",
   "metadata": {
    "ExecuteTime": {
     "end_time": "2023-04-24T14:23:36.964275Z",
     "start_time": "2023-04-24T14:23:36.955279Z"
    },
    "hidden": true
   },
   "outputs": [
    {
     "name": "stdout",
     "output_type": "stream",
     "text": [
      "No nosso DataFrame temos 1000 registros e 7 colunas.\n"
     ]
    }
   ],
   "source": [
    "print(f'No nosso DataFrame temos {df.shape[0]} registros e {df.shape[1]} colunas.')"
   ]
  },
  {
   "cell_type": "code",
   "execution_count": 4,
   "id": "9cd559fb",
   "metadata": {
    "ExecuteTime": {
     "end_time": "2023-04-24T14:23:37.451969Z",
     "start_time": "2023-04-24T14:23:37.434980Z"
    },
    "hidden": true
   },
   "outputs": [
    {
     "name": "stdout",
     "output_type": "stream",
     "text": [
      "<class 'pandas.core.frame.DataFrame'>\n",
      "RangeIndex: 1000 entries, 0 to 999\n",
      "Data columns (total 7 columns):\n",
      " #   Column     Non-Null Count  Dtype\n",
      "---  ------     --------------  -----\n",
      " 0   precos     1000 non-null   int64\n",
      " 1   area       1000 non-null   int64\n",
      " 2   garagem    1000 non-null   int64\n",
      " 3   banheiros  1000 non-null   int64\n",
      " 4   lareira    1000 non-null   int64\n",
      " 5   marmore    1000 non-null   int64\n",
      " 6   andares    1000 non-null   int64\n",
      "dtypes: int64(7)\n",
      "memory usage: 54.8 KB\n"
     ]
    }
   ],
   "source": [
    "df.info()"
   ]
  },
  {
   "cell_type": "markdown",
   "id": "6771138c",
   "metadata": {
    "heading_collapsed": true,
    "hidden": true
   },
   "source": [
    "## Analise do DF"
   ]
  },
  {
   "cell_type": "code",
   "execution_count": 5,
   "id": "d5bd2d65",
   "metadata": {
    "ExecuteTime": {
     "end_time": "2023-04-24T14:23:38.341236Z",
     "start_time": "2023-04-24T14:23:38.322247Z"
    },
    "hidden": true
   },
   "outputs": [],
   "source": [
    "# Padronizando os Nomes das Colunas\n",
    "dic_nome = {\n",
    "    'precos' : 'preco'\n",
    "    ,'banheiros' : 'banheiro'\n",
    "    ,'andares' : 'andar'\n",
    "}\n",
    "df.rename(columns=dic_nome, inplace=True)"
   ]
  },
  {
   "cell_type": "markdown",
   "id": "3bcc33fa",
   "metadata": {
    "hidden": true
   },
   "source": [
    "---"
   ]
  },
  {
   "cell_type": "code",
   "execution_count": 6,
   "id": "72f55b98",
   "metadata": {
    "ExecuteTime": {
     "end_time": "2023-04-24T14:23:39.323038Z",
     "start_time": "2023-04-24T14:23:39.314043Z"
    },
    "hidden": true,
    "scrolled": true
   },
   "outputs": [
    {
     "data": {
      "text/plain": [
       "preco       0\n",
       "area        0\n",
       "garagem     0\n",
       "banheiro    0\n",
       "lareira     0\n",
       "marmore     0\n",
       "andar       0\n",
       "dtype: int64"
      ]
     },
     "execution_count": 6,
     "metadata": {},
     "output_type": "execute_result"
    }
   ],
   "source": [
    "# Analise de Dados Nulos\n",
    "df.isnull().sum()"
   ]
  },
  {
   "cell_type": "markdown",
   "id": "f70b6da3",
   "metadata": {
    "hidden": true
   },
   "source": [
    "---"
   ]
  },
  {
   "cell_type": "code",
   "execution_count": 7,
   "id": "2b6f97ed",
   "metadata": {
    "ExecuteTime": {
     "end_time": "2023-04-24T14:23:40.339054Z",
     "start_time": "2023-04-24T14:23:40.330060Z"
    },
    "hidden": true
   },
   "outputs": [
    {
     "name": "stdout",
     "output_type": "stream",
     "text": [
      "Não há dados duplicados\n"
     ]
    }
   ],
   "source": [
    "# Analise e Tratamento de Dados Duplicados\n",
    "tamanho_ori = len(df)\n",
    "df.drop_duplicates(inplace=True)\n",
    "tamanho_drop = len(df)\n",
    "\n",
    "if tamanho_drop == tamanho_ori:\n",
    "    print('Não há dados duplicados')\n",
    "else:\n",
    "    print('Havia dados duplicados no nosso DataFrame')\n",
    "    print(f'Agora temos {df.shape[0]} registros.')"
   ]
  },
  {
   "cell_type": "markdown",
   "id": "6f80e2f1",
   "metadata": {
    "hidden": true
   },
   "source": [
    "---"
   ]
  },
  {
   "cell_type": "code",
   "execution_count": 8,
   "id": "13112bee",
   "metadata": {
    "ExecuteTime": {
     "end_time": "2023-04-24T14:23:41.550389Z",
     "start_time": "2023-04-24T14:23:41.457449Z"
    },
    "hidden": true
   },
   "outputs": [
    {
     "name": "stdout",
     "output_type": "stream",
     "text": [
      "Não foi encontrado outliers em nenhuma das colunas\n"
     ]
    }
   ],
   "source": [
    "#--------------------------------------------------------\n",
    "#-----------------------Infomações-----------------------\n",
    "## Essa \"função\" analisa se há outliers nas colunas passadas\n",
    "## informando a quantidade de outliers em cada limite e o\n",
    "## tratamento é feito com o valor da mediana.\n",
    "#--------------------------------------------------------\n",
    "#-----------------------Parametros-----------------------\n",
    "# col = []\n",
    "# df_analisado = df[[col]]        \n",
    "df_analisado = df             # df -> DataFrame\n",
    "msg=True                      # msg -> Print com as informações (True/False)\n",
    "tratamento=False              # tratamento -> (True/False) \n",
    "#--------------------------------------------------------\n",
    "#--------------------------------------------------------\n",
    "\n",
    "flag = 0\n",
    "for col in list(df_analisado.columns):\n",
    "    # Definindo os outliers\n",
    "    Q1 = int(df_analisado.quantile([0.25])[col])\n",
    "    Q3 = int(df_analisado.quantile([0.75])[col])\n",
    "    IIQ = Q3 - Q1\n",
    "    ls = Q3 + (1.5*IIQ)\n",
    "    li = Q1 - (1.5*IIQ)\n",
    "    outlier_sup = df_analisado.query(f'{col} > {ls}')[col]\n",
    "    outlier_inf = df_analisado.query(f'{col} < {li}')[col]\n",
    "    # Verificando\n",
    "    if len(outlier_sup) > 0:\n",
    "        if msg == True:\n",
    "            flag = 1\n",
    "            print(f'A coluna \"{col}\" possui {len(outlier_sup)} outliers no limite superior')\n",
    "        if tratamento == True:\n",
    "            df[df[col] == outlier_sup][col].replace(to_replace=df[col].median(), inplace=True)\n",
    "            print('Os outliers foram tratados.')\n",
    "    if len(outlier_inf) > 0:\n",
    "        if msg == True:\n",
    "            flag = 1\n",
    "            print(f'A coluna \"{col}\" possui {len(outlier_inf)} outliers no limite inferior')\n",
    "        if tratamento == True:\n",
    "            df[df[col] == outlier_inf][col].replace(to_replace=df[col].median(), inplace=True)\n",
    "            print('Os outliers foram tratados.')\n",
    "    if len(outlier_inf) > 0 or len(outlier_sup) > 0:\n",
    "        print('------------------------------------------------------------')\n",
    "#     \n",
    "if msg == True:\n",
    "    if flag == 0:\n",
    "        print('Não foi encontrado outliers em nenhuma das colunas')"
   ]
  },
  {
   "cell_type": "markdown",
   "id": "63d64a5a",
   "metadata": {
    "heading_collapsed": true
   },
   "source": [
    "# Analise Exploratoria dos Dados"
   ]
  },
  {
   "cell_type": "code",
   "execution_count": 9,
   "id": "542eba32",
   "metadata": {
    "ExecuteTime": {
     "end_time": "2023-04-24T14:23:42.540796Z",
     "start_time": "2023-04-24T14:23:42.514807Z"
    },
    "hidden": true,
    "scrolled": false
   },
   "outputs": [
    {
     "data": {
      "text/html": [
       "<div>\n",
       "<style scoped>\n",
       "    .dataframe tbody tr th:only-of-type {\n",
       "        vertical-align: middle;\n",
       "    }\n",
       "\n",
       "    .dataframe tbody tr th {\n",
       "        vertical-align: top;\n",
       "    }\n",
       "\n",
       "    .dataframe thead th {\n",
       "        text-align: right;\n",
       "    }\n",
       "</style>\n",
       "<table border=\"1\" class=\"dataframe\">\n",
       "  <thead>\n",
       "    <tr style=\"text-align: right;\">\n",
       "      <th></th>\n",
       "      <th>preco</th>\n",
       "      <th>area</th>\n",
       "      <th>garagem</th>\n",
       "      <th>banheiro</th>\n",
       "      <th>lareira</th>\n",
       "      <th>marmore</th>\n",
       "      <th>andar</th>\n",
       "    </tr>\n",
       "  </thead>\n",
       "  <tbody>\n",
       "    <tr>\n",
       "      <th>0</th>\n",
       "      <td>51875</td>\n",
       "      <td>25</td>\n",
       "      <td>3</td>\n",
       "      <td>4</td>\n",
       "      <td>3</td>\n",
       "      <td>0</td>\n",
       "      <td>1</td>\n",
       "    </tr>\n",
       "    <tr>\n",
       "      <th>1</th>\n",
       "      <td>17875</td>\n",
       "      <td>35</td>\n",
       "      <td>1</td>\n",
       "      <td>3</td>\n",
       "      <td>1</td>\n",
       "      <td>0</td>\n",
       "      <td>0</td>\n",
       "    </tr>\n",
       "    <tr>\n",
       "      <th>2</th>\n",
       "      <td>47075</td>\n",
       "      <td>195</td>\n",
       "      <td>2</td>\n",
       "      <td>4</td>\n",
       "      <td>2</td>\n",
       "      <td>0</td>\n",
       "      <td>0</td>\n",
       "    </tr>\n",
       "  </tbody>\n",
       "</table>\n",
       "</div>"
      ],
      "text/plain": [
       "   preco  area  garagem  banheiro  lareira  marmore  andar\n",
       "0  51875    25        3         4        3        0      1\n",
       "1  17875    35        1         3        1        0      0\n",
       "2  47075   195        2         4        2        0      0"
      ]
     },
     "execution_count": 9,
     "metadata": {},
     "output_type": "execute_result"
    }
   ],
   "source": [
    "df.head(3)"
   ]
  },
  {
   "cell_type": "markdown",
   "id": "17a5b6bb",
   "metadata": {
    "hidden": true
   },
   "source": [
    "- Colunas com valores continuos: 'preco' e 'area'.\n",
    "- Colunas com classes ordenadas: 'garagem', 'banheiro' e 'lareira.\n",
    "- Colunas com valores binarios: 'marmore' e 'andar."
   ]
  },
  {
   "cell_type": "markdown",
   "id": "ee98e4f2",
   "metadata": {
    "heading_collapsed": true,
    "hidden": true
   },
   "source": [
    "## Analise Descritiva"
   ]
  },
  {
   "cell_type": "code",
   "execution_count": 10,
   "id": "a0f4629d",
   "metadata": {
    "ExecuteTime": {
     "end_time": "2023-04-24T14:23:44.066128Z",
     "start_time": "2023-04-24T14:23:44.012164Z"
    },
    "hidden": true,
    "scrolled": true
   },
   "outputs": [
    {
     "data": {
      "text/html": [
       "<div>\n",
       "<style scoped>\n",
       "    .dataframe tbody tr th:only-of-type {\n",
       "        vertical-align: middle;\n",
       "    }\n",
       "\n",
       "    .dataframe tbody tr th {\n",
       "        vertical-align: top;\n",
       "    }\n",
       "\n",
       "    .dataframe thead th {\n",
       "        text-align: right;\n",
       "    }\n",
       "</style>\n",
       "<table border=\"1\" class=\"dataframe\">\n",
       "  <thead>\n",
       "    <tr style=\"text-align: right;\">\n",
       "      <th></th>\n",
       "      <th>preco</th>\n",
       "      <th>area</th>\n",
       "      <th>garagem</th>\n",
       "      <th>banheiro</th>\n",
       "      <th>lareira</th>\n",
       "      <th>marmore</th>\n",
       "      <th>andar</th>\n",
       "    </tr>\n",
       "  </thead>\n",
       "  <tbody>\n",
       "    <tr>\n",
       "      <th>count</th>\n",
       "      <td>1000.000000</td>\n",
       "      <td>1000.000000</td>\n",
       "      <td>1000.000000</td>\n",
       "      <td>1000.000000</td>\n",
       "      <td>1000.000000</td>\n",
       "      <td>1000.000000</td>\n",
       "      <td>1000.000000</td>\n",
       "    </tr>\n",
       "    <tr>\n",
       "      <th>mean</th>\n",
       "      <td>41985.600000</td>\n",
       "      <td>124.326000</td>\n",
       "      <td>2.009000</td>\n",
       "      <td>3.000000</td>\n",
       "      <td>2.034000</td>\n",
       "      <td>0.331000</td>\n",
       "      <td>0.485000</td>\n",
       "    </tr>\n",
       "    <tr>\n",
       "      <th>std</th>\n",
       "      <td>12140.385408</td>\n",
       "      <td>72.389972</td>\n",
       "      <td>0.813376</td>\n",
       "      <td>1.429701</td>\n",
       "      <td>1.418752</td>\n",
       "      <td>0.470809</td>\n",
       "      <td>0.500025</td>\n",
       "    </tr>\n",
       "    <tr>\n",
       "      <th>min</th>\n",
       "      <td>13150.000000</td>\n",
       "      <td>1.000000</td>\n",
       "      <td>1.000000</td>\n",
       "      <td>1.000000</td>\n",
       "      <td>0.000000</td>\n",
       "      <td>0.000000</td>\n",
       "      <td>0.000000</td>\n",
       "    </tr>\n",
       "    <tr>\n",
       "      <th>25%</th>\n",
       "      <td>33112.500000</td>\n",
       "      <td>60.750000</td>\n",
       "      <td>1.000000</td>\n",
       "      <td>2.000000</td>\n",
       "      <td>1.000000</td>\n",
       "      <td>0.000000</td>\n",
       "      <td>0.000000</td>\n",
       "    </tr>\n",
       "    <tr>\n",
       "      <th>50%</th>\n",
       "      <td>41725.000000</td>\n",
       "      <td>123.000000</td>\n",
       "      <td>2.000000</td>\n",
       "      <td>3.000000</td>\n",
       "      <td>2.000000</td>\n",
       "      <td>0.000000</td>\n",
       "      <td>0.000000</td>\n",
       "    </tr>\n",
       "    <tr>\n",
       "      <th>75%</th>\n",
       "      <td>51175.000000</td>\n",
       "      <td>187.000000</td>\n",
       "      <td>3.000000</td>\n",
       "      <td>4.000000</td>\n",
       "      <td>3.000000</td>\n",
       "      <td>1.000000</td>\n",
       "      <td>1.000000</td>\n",
       "    </tr>\n",
       "    <tr>\n",
       "      <th>max</th>\n",
       "      <td>73675.000000</td>\n",
       "      <td>249.000000</td>\n",
       "      <td>3.000000</td>\n",
       "      <td>5.000000</td>\n",
       "      <td>4.000000</td>\n",
       "      <td>1.000000</td>\n",
       "      <td>1.000000</td>\n",
       "    </tr>\n",
       "  </tbody>\n",
       "</table>\n",
       "</div>"
      ],
      "text/plain": [
       "              preco         area      garagem     banheiro      lareira  \\\n",
       "count   1000.000000  1000.000000  1000.000000  1000.000000  1000.000000   \n",
       "mean   41985.600000   124.326000     2.009000     3.000000     2.034000   \n",
       "std    12140.385408    72.389972     0.813376     1.429701     1.418752   \n",
       "min    13150.000000     1.000000     1.000000     1.000000     0.000000   \n",
       "25%    33112.500000    60.750000     1.000000     2.000000     1.000000   \n",
       "50%    41725.000000   123.000000     2.000000     3.000000     2.000000   \n",
       "75%    51175.000000   187.000000     3.000000     4.000000     3.000000   \n",
       "max    73675.000000   249.000000     3.000000     5.000000     4.000000   \n",
       "\n",
       "           marmore        andar  \n",
       "count  1000.000000  1000.000000  \n",
       "mean      0.331000     0.485000  \n",
       "std       0.470809     0.500025  \n",
       "min       0.000000     0.000000  \n",
       "25%       0.000000     0.000000  \n",
       "50%       0.000000     0.000000  \n",
       "75%       1.000000     1.000000  \n",
       "max       1.000000     1.000000  "
      ]
     },
     "execution_count": 10,
     "metadata": {},
     "output_type": "execute_result"
    }
   ],
   "source": [
    "df.describe()"
   ]
  },
  {
   "cell_type": "code",
   "execution_count": 11,
   "id": "5a4951d5",
   "metadata": {
    "ExecuteTime": {
     "end_time": "2023-04-24T14:23:44.602795Z",
     "start_time": "2023-04-24T14:23:44.579810Z"
    },
    "hidden": true,
    "scrolled": true
   },
   "outputs": [
    {
     "name": "stdout",
     "output_type": "stream",
     "text": [
      "Diferença entre média e mediana:\n",
      " * preco: 260.6\n",
      " * area: 1.33\n",
      " * garagem: 0.01\n",
      " * banheiro: 0.0\n",
      " * lareira: 0.03\n"
     ]
    }
   ],
   "source": [
    "print('Diferença entre média e mediana:')\n",
    "for col in ['preco', 'area', 'garagem', 'banheiro', 'lareira']    :\n",
    "    print(f' * {col}:', abs(df[col].mean() - df[col].quantile(0.5)).round(2))"
   ]
  },
  {
   "cell_type": "markdown",
   "id": "a273ffb5",
   "metadata": {
    "hidden": true
   },
   "source": [
    "- Possuimos um Dataframe com os dados bem simétricos. Ideal para a aplicação da regressão linear."
   ]
  },
  {
   "cell_type": "markdown",
   "id": "129e443f",
   "metadata": {
    "heading_collapsed": true,
    "hidden": true
   },
   "source": [
    "## Analise de Frequencia"
   ]
  },
  {
   "cell_type": "markdown",
   "id": "9eb13bea",
   "metadata": {
    "heading_collapsed": true,
    "hidden": true
   },
   "source": [
    "### Preço"
   ]
  },
  {
   "cell_type": "code",
   "execution_count": 12,
   "id": "8a6646c7",
   "metadata": {
    "ExecuteTime": {
     "end_time": "2023-04-24T14:23:53.725469Z",
     "start_time": "2023-04-24T14:23:49.298089Z"
    },
    "hidden": true
   },
   "outputs": [
    {
     "data": {
      "text/plain": [
       "<AxesSubplot:>"
      ]
     },
     "execution_count": 12,
     "metadata": {},
     "output_type": "execute_result"
    },
    {
     "data": {
      "image/png": "[encoded data removed]",
      "text/plain": [
       "<Figure size 432x288 with 1 Axes>"
      ]
     },
     "metadata": {
      "needs_background": "light"
     },
     "output_type": "display_data"
    }
   ],
   "source": [
    "df['preco'].hist()"
   ]
  },
  {
   "cell_type": "markdown",
   "id": "40140148",
   "metadata": {
    "hidden": true
   },
   "source": [
    "- Nossa variavel resposta é uma distribuição normal"
   ]
  },
  {
   "cell_type": "markdown",
   "id": "87895494",
   "metadata": {
    "hidden": true
   },
   "source": [
    "---"
   ]
  },
  {
   "cell_type": "markdown",
   "id": "a369724c",
   "metadata": {
    "heading_collapsed": true,
    "hidden": true
   },
   "source": [
    "### Area"
   ]
  },
  {
   "cell_type": "code",
   "execution_count": 13,
   "id": "889eedbb",
   "metadata": {
    "ExecuteTime": {
     "end_time": "2023-04-24T14:23:55.445805Z",
     "start_time": "2023-04-24T14:23:55.122007Z"
    },
    "hidden": true
   },
   "outputs": [
    {
     "data": {
      "text/plain": [
       "<AxesSubplot:>"
      ]
     },
     "execution_count": 13,
     "metadata": {},
     "output_type": "execute_result"
    },
    {
     "data": {
      "image/png": "[encoded data removed]",
      "text/plain": [
       "<Figure size 432x288 with 1 Axes>"
      ]
     },
     "metadata": {
      "needs_background": "light"
     },
     "output_type": "display_data"
    }
   ],
   "source": [
    "df['area'].hist()"
   ]
  },
  {
   "cell_type": "markdown",
   "id": "3e41cc84",
   "metadata": {
    "hidden": true
   },
   "source": [
    "- Dados quase constantes"
   ]
  },
  {
   "cell_type": "markdown",
   "id": "e70de333",
   "metadata": {
    "hidden": true
   },
   "source": [
    "---"
   ]
  },
  {
   "cell_type": "markdown",
   "id": "ca7346a5",
   "metadata": {
    "heading_collapsed": true,
    "hidden": true
   },
   "source": [
    "### Garagem"
   ]
  },
  {
   "cell_type": "code",
   "execution_count": 14,
   "id": "1f56155b",
   "metadata": {
    "ExecuteTime": {
     "end_time": "2023-04-24T14:23:57.848398Z",
     "start_time": "2023-04-24T14:23:57.417978Z"
    },
    "hidden": true
   },
   "outputs": [
    {
     "data": {
      "text/plain": [
       "<AxesSubplot:>"
      ]
     },
     "execution_count": 14,
     "metadata": {},
     "output_type": "execute_result"
    },
    {
     "data": {
      "image/png": "[encoded data removed]",
      "text/plain": [
       "<Figure size 432x288 with 1 Axes>"
      ]
     },
     "metadata": {
      "needs_background": "light"
     },
     "output_type": "display_data"
    }
   ],
   "source": [
    "df['garagem'].hist()"
   ]
  },
  {
   "cell_type": "markdown",
   "id": "d6b83786",
   "metadata": {
    "hidden": true
   },
   "source": [
    "- Dados quase constantes"
   ]
  },
  {
   "cell_type": "markdown",
   "id": "1ea2ce01",
   "metadata": {
    "hidden": true
   },
   "source": [
    "---"
   ]
  },
  {
   "cell_type": "markdown",
   "id": "fd7b51ce",
   "metadata": {
    "heading_collapsed": true,
    "hidden": true
   },
   "source": [
    "### Banheiro"
   ]
  },
  {
   "cell_type": "code",
   "execution_count": 15,
   "id": "7ea03a3a",
   "metadata": {
    "ExecuteTime": {
     "end_time": "2023-04-24T14:24:00.252718Z",
     "start_time": "2023-04-24T14:23:59.881946Z"
    },
    "hidden": true
   },
   "outputs": [
    {
     "data": {
      "text/plain": [
       "<AxesSubplot:>"
      ]
     },
     "execution_count": 15,
     "metadata": {},
     "output_type": "execute_result"
    },
    {
     "data": {
      "image/png": "[encoded data removed]",
      "text/plain": [
       "<Figure size 432x288 with 1 Axes>"
      ]
     },
     "metadata": {
      "needs_background": "light"
     },
     "output_type": "display_data"
    }
   ],
   "source": [
    "df['banheiro'].hist()"
   ]
  },
  {
   "cell_type": "markdown",
   "id": "ec613d31",
   "metadata": {
    "ExecuteTime": {
     "end_time": "2023-04-23T16:20:00.993358Z",
     "start_time": "2023-04-23T16:20:00.975369Z"
    },
    "hidden": true
   },
   "source": [
    "- Variação de frequências nas classes."
   ]
  },
  {
   "cell_type": "markdown",
   "id": "59a07c60",
   "metadata": {
    "hidden": true
   },
   "source": [
    "---"
   ]
  },
  {
   "cell_type": "markdown",
   "id": "80e708ac",
   "metadata": {
    "heading_collapsed": true,
    "hidden": true
   },
   "source": [
    "### Lareira"
   ]
  },
  {
   "cell_type": "code",
   "execution_count": 16,
   "id": "571e7c38",
   "metadata": {
    "ExecuteTime": {
     "end_time": "2023-04-24T14:24:02.474686Z",
     "start_time": "2023-04-24T14:24:02.107912Z"
    },
    "hidden": true
   },
   "outputs": [
    {
     "data": {
      "text/plain": [
       "<AxesSubplot:>"
      ]
     },
     "execution_count": 16,
     "metadata": {},
     "output_type": "execute_result"
    },
    {
     "data": {
      "image/png": "[encoded data removed]",
      "text/plain": [
       "<Figure size 432x288 with 1 Axes>"
      ]
     },
     "metadata": {
      "needs_background": "light"
     },
     "output_type": "display_data"
    }
   ],
   "source": [
    "df['lareira'].hist()"
   ]
  },
  {
   "cell_type": "markdown",
   "id": "2a8783f3",
   "metadata": {
    "hidden": true
   },
   "source": [
    "- Dados quase constantes"
   ]
  },
  {
   "cell_type": "markdown",
   "id": "b13f6c7a",
   "metadata": {
    "hidden": true
   },
   "source": [
    "---"
   ]
  },
  {
   "cell_type": "markdown",
   "id": "01db803e",
   "metadata": {
    "heading_collapsed": true,
    "hidden": true
   },
   "source": [
    "### Marmore"
   ]
  },
  {
   "cell_type": "code",
   "execution_count": 17,
   "id": "a1ba3cba",
   "metadata": {
    "ExecuteTime": {
     "end_time": "2023-04-24T14:24:04.659678Z",
     "start_time": "2023-04-24T14:24:04.340876Z"
    },
    "hidden": true,
    "scrolled": true
   },
   "outputs": [
    {
     "data": {
      "text/plain": [
       "<AxesSubplot:>"
      ]
     },
     "execution_count": 17,
     "metadata": {},
     "output_type": "execute_result"
    },
    {
     "data": {
      "image/png": "[encoded data removed]",
      "text/plain": [
       "<Figure size 432x288 with 1 Axes>"
      ]
     },
     "metadata": {
      "needs_background": "light"
     },
     "output_type": "display_data"
    }
   ],
   "source": [
    "df['marmore'].hist()"
   ]
  },
  {
   "cell_type": "code",
   "execution_count": 18,
   "id": "4bf279fe",
   "metadata": {
    "ExecuteTime": {
     "end_time": "2023-04-24T14:24:04.962490Z",
     "start_time": "2023-04-24T14:24:04.949498Z"
    },
    "hidden": true
   },
   "outputs": [
    {
     "name": "stdout",
     "output_type": "stream",
     "text": [
      "66.90% das casas não tem marmore e 33.10% tem marmore\n"
     ]
    }
   ],
   "source": [
    "marmore = len(df.query('marmore == 0')) * 100 /  len(df)\n",
    "print(f'{marmore:.2f}% das casas não tem marmore e {(abs(100-marmore)):.2f}% tem marmore')"
   ]
  },
  {
   "cell_type": "markdown",
   "id": "9c46bd36",
   "metadata": {
    "hidden": true
   },
   "source": [
    "---"
   ]
  },
  {
   "cell_type": "markdown",
   "id": "95a32e54",
   "metadata": {
    "heading_collapsed": true,
    "hidden": true
   },
   "source": [
    "### Andar"
   ]
  },
  {
   "cell_type": "code",
   "execution_count": 19,
   "id": "75ddd844",
   "metadata": {
    "ExecuteTime": {
     "end_time": "2023-04-24T14:24:06.895685Z",
     "start_time": "2023-04-24T14:24:06.586869Z"
    },
    "hidden": true,
    "scrolled": true
   },
   "outputs": [
    {
     "data": {
      "text/plain": [
       "<AxesSubplot:>"
      ]
     },
     "execution_count": 19,
     "metadata": {},
     "output_type": "execute_result"
    },
    {
     "data": {
      "image/png": "[encoded data removed]",
      "text/plain": [
       "<Figure size 432x288 with 1 Axes>"
      ]
     },
     "metadata": {
      "needs_background": "light"
     },
     "output_type": "display_data"
    }
   ],
   "source": [
    "df['andar'].hist()"
   ]
  },
  {
   "cell_type": "code",
   "execution_count": 20,
   "id": "6540a428",
   "metadata": {
    "ExecuteTime": {
     "end_time": "2023-04-24T14:24:07.114538Z",
     "start_time": "2023-04-24T14:24:07.102545Z"
    },
    "hidden": true
   },
   "outputs": [
    {
     "name": "stdout",
     "output_type": "stream",
     "text": [
      "51.50% das casas não tem mais de um andar e 48.50% tem mais de um andar\n"
     ]
    }
   ],
   "source": [
    "andar_zero = len(df.query('andar == 0')) * 100 /  len(df)\n",
    "print(f'{andar_zero:.2f}% das casas não tem mais de um andar e {(abs(100-andar_zero)):.2f}% tem mais de um andar')"
   ]
  },
  {
   "cell_type": "markdown",
   "id": "fb9d4b32",
   "metadata": {
    "heading_collapsed": true,
    "hidden": true
   },
   "source": [
    "## Correlação"
   ]
  },
  {
   "cell_type": "code",
   "execution_count": 21,
   "id": "c2fe62f5",
   "metadata": {
    "ExecuteTime": {
     "end_time": "2023-04-24T14:24:09.346760Z",
     "start_time": "2023-04-24T14:24:08.210468Z"
    },
    "hidden": true,
    "scrolled": false
   },
   "outputs": [
    {
     "data": {
      "text/plain": [
       "<AxesSubplot:>"
      ]
     },
     "execution_count": 21,
     "metadata": {},
     "output_type": "execute_result"
    },
    {
     "data": {
      "image/png": "[encoded data removed]",
      "text/plain": [
       "<Figure size 864x576 with 2 Axes>"
      ]
     },
     "metadata": {
      "needs_background": "light"
     },
     "output_type": "display_data"
    }
   ],
   "source": [
    "plt.figure(figsize=(12,8))\n",
    "sns.heatmap(df.corr(), annot=True, cmap='ocean_r')"
   ]
  },
  {
   "cell_type": "markdown",
   "id": "a7b7a594",
   "metadata": {
    "hidden": true
   },
   "source": [
    "- Alta correlação entre 'preco' e as nossas variaveis binarias."
   ]
  },
  {
   "cell_type": "markdown",
   "id": "d533541c",
   "metadata": {
    "heading_collapsed": true
   },
   "source": [
    "# Identificando os Padrões"
   ]
  },
  {
   "cell_type": "markdown",
   "id": "6965ac94",
   "metadata": {
    "heading_collapsed": true,
    "hidden": true
   },
   "source": [
    "## Andar"
   ]
  },
  {
   "cell_type": "code",
   "execution_count": 22,
   "id": "323b160a",
   "metadata": {
    "ExecuteTime": {
     "end_time": "2023-04-24T14:24:11.596489Z",
     "start_time": "2023-04-24T14:24:11.156768Z"
    },
    "hidden": true
   },
   "outputs": [
    {
     "data": {
      "image/png": "[encoded data removed]",
      "text/plain": [
       "<Figure size 864x288 with 1 Axes>"
      ]
     },
     "metadata": {
      "needs_background": "light"
     },
     "output_type": "display_data"
    }
   ],
   "source": [
    "ax = sns.boxplot(x='preco', y='andar', data=df, orient='h')\n",
    "ax.set_title('Preço X Andar')\n",
    "ax.legend(['0 - Não possui mais de um andar', '1 - Possui mais de um andar'], loc=3)\n",
    "ax.figure.set_size_inches(12, 4)\n",
    "plt.show()"
   ]
  },
  {
   "cell_type": "code",
   "execution_count": 23,
   "id": "d67f0695",
   "metadata": {
    "ExecuteTime": {
     "end_time": "2023-04-24T14:24:11.834342Z",
     "start_time": "2023-04-24T14:24:11.805359Z"
    },
    "hidden": true
   },
   "outputs": [
    {
     "name": "stdout",
     "output_type": "stream",
     "text": [
      "Quando temos andares na casa observamos um aumento médio no preço de 15333.24\n"
     ]
    }
   ],
   "source": [
    "aumento_med = df.query('andar == 1')['preco'].mean() - df.query('andar == 0')['preco'].mean()\n",
    "print(f'Quando temos andares na casa observamos um aumento médio no preço de {aumento_med:.2f}')"
   ]
  },
  {
   "cell_type": "markdown",
   "id": "7538c1a5",
   "metadata": {
    "heading_collapsed": true,
    "hidden": true
   },
   "source": [
    "## Marmore"
   ]
  },
  {
   "cell_type": "code",
   "execution_count": 24,
   "id": "863f85d5",
   "metadata": {
    "ExecuteTime": {
     "end_time": "2023-04-24T14:24:13.278284Z",
     "start_time": "2023-04-24T14:24:12.946489Z"
    },
    "hidden": true
   },
   "outputs": [
    {
     "data": {
      "image/png": "[encoded data removed]",
      "text/plain": [
       "<Figure size 864x288 with 1 Axes>"
      ]
     },
     "metadata": {
      "needs_background": "light"
     },
     "output_type": "display_data"
    }
   ],
   "source": [
    "ax = sns.boxplot(x='preco', y='marmore', data=df, orient='h')\n",
    "ax.set_title('Preço X Marmore')\n",
    "ax.legend(['0 - Não tem marmore', '1 - Tem marmore'])\n",
    "ax.figure.set_size_inches(12, 4)\n",
    "plt.show()"
   ]
  },
  {
   "cell_type": "code",
   "execution_count": 25,
   "id": "6dbd8552",
   "metadata": {
    "ExecuteTime": {
     "end_time": "2023-04-24T14:24:13.546116Z",
     "start_time": "2023-04-24T14:24:13.517132Z"
    },
    "hidden": true
   },
   "outputs": [
    {
     "name": "stdout",
     "output_type": "stream",
     "text": [
      "Quando temos marmore na casa observamos um aumento médio no preço de 11107.87\n"
     ]
    }
   ],
   "source": [
    "aumento_med = df.query('marmore == 1')['preco'].mean() - df.query('marmore == 0')['preco'].mean()\n",
    "print(f'Quando temos marmore na casa observamos um aumento médio no preço de {aumento_med:.2f}')"
   ]
  },
  {
   "cell_type": "markdown",
   "id": "58adc625",
   "metadata": {
    "heading_collapsed": true,
    "hidden": true
   },
   "source": [
    "## Area"
   ]
  },
  {
   "cell_type": "code",
   "execution_count": 26,
   "id": "86d91997",
   "metadata": {
    "ExecuteTime": {
     "end_time": "2023-04-24T14:24:15.036103Z",
     "start_time": "2023-04-24T14:24:14.694316Z"
    },
    "hidden": true,
    "scrolled": true
   },
   "outputs": [
    {
     "data": {
      "image/png": "[encoded data removed]",
      "text/plain": [
       "<Figure size 432x288 with 1 Axes>"
      ]
     },
     "metadata": {
      "needs_background": "light"
     },
     "output_type": "display_data"
    }
   ],
   "source": [
    "fig, ax = plt.subplots()\n",
    "ax.scatter(x='area', y='preco', data=df)\n",
    "ax.set_title(f'Area X Preço')\n",
    "ax.set_ylabel('Preço')\n",
    "ax.set_xlabel('Area')\n",
    "plt.show()"
   ]
  },
  {
   "cell_type": "markdown",
   "id": "b0d48a40",
   "metadata": {
    "hidden": true
   },
   "source": [
    "- Não padrões visiveis no grafico de disperção"
   ]
  },
  {
   "cell_type": "markdown",
   "id": "f8b9cc70",
   "metadata": {
    "hidden": true
   },
   "source": [
    "---"
   ]
  },
  {
   "cell_type": "code",
   "execution_count": 27,
   "id": "8aebd7dc",
   "metadata": {
    "ExecuteTime": {
     "end_time": "2023-04-24T14:24:16.814429Z",
     "start_time": "2023-04-24T14:24:16.361712Z"
    },
    "hidden": true,
    "scrolled": false
   },
   "outputs": [
    {
     "data": {
      "image/png": "[encoded data removed]",
      "text/plain": [
       "<Figure size 1080x720 with 1 Axes>"
      ]
     },
     "metadata": {
      "needs_background": "light"
     },
     "output_type": "display_data"
    }
   ],
   "source": [
    "#-------------------------------\n",
    "# Cada faixa representa 1/5 (50)\n",
    "# da area total (250).\n",
    "#------------------------------\n",
    "\n",
    "bins = list(range(0,260, 50))\n",
    "labels = list(range(0, 5))\n",
    "df['fx_area'] = pd.cut(x = df.area,\n",
    "                                bins = bins,\n",
    "                                labels = labels,\n",
    "                                include_lowest = True)\n",
    "\n",
    "ax = sns.boxplot(x='preco', y='fx_area', data=df,)\n",
    "ax.set_title('Preço X Faixa de Area')\n",
    "ax.legend(['0-50', '51-100', '101-150', '151-200', '201-250'])\n",
    "ax.legend(['[0] 0-50', '[1] 51-100', '[2] 101-150', '[3] 151-200', '[4] 201-250'], title='Faixa de Area', loc=2)\n",
    "\n",
    "ax.figure.set_size_inches(15, 10)\n",
    "plt.show()"
   ]
  },
  {
   "cell_type": "markdown",
   "id": "f670b068",
   "metadata": {
    "hidden": true
   },
   "source": [
    "É possivel notar uma crecente nos valores da mediana por classe"
   ]
  },
  {
   "cell_type": "code",
   "execution_count": 28,
   "id": "5177dc7a",
   "metadata": {
    "ExecuteTime": {
     "end_time": "2023-04-24T14:24:17.953508Z",
     "start_time": "2023-04-24T14:24:17.465695Z"
    },
    "hidden": true,
    "scrolled": false
   },
   "outputs": [
    {
     "data": {
      "image/png": "[encoded data removed]",
      "text/plain": [
       "<Figure size 1080x720 with 1 Axes>"
      ]
     },
     "metadata": {
      "needs_background": "light"
     },
     "output_type": "display_data"
    }
   ],
   "source": [
    "# classe 3 representa 2/5 (100)\n",
    "df['fx_area'].replace(4, 3, inplace=True)\n",
    "\n",
    "ax = sns.boxplot(x='preco', y='fx_area', data=df,)\n",
    "ax.set_title('Preço X Faixa de Area')\n",
    "ax.legend(['[0] 0-50', '[1] 51-100', '[2] 101-150', '[3] 151-250'], title='Faixa de Area', loc=2)\n",
    "ax.figure.set_size_inches(15, 10)\n",
    "plt.show()"
   ]
  },
  {
   "cell_type": "markdown",
   "id": "4c638b36",
   "metadata": {
    "hidden": true
   },
   "source": [
    "- A classe 4 foi juntada com a classe 3 para que o padrão da mediana fosse mais visivel."
   ]
  },
  {
   "cell_type": "markdown",
   "id": "873869f2",
   "metadata": {
    "hidden": true
   },
   "source": [
    "---"
   ]
  },
  {
   "cell_type": "code",
   "execution_count": 29,
   "id": "963705e8",
   "metadata": {
    "ExecuteTime": {
     "end_time": "2023-04-24T14:24:19.533473Z",
     "start_time": "2023-04-24T14:24:19.217671Z"
    },
    "hidden": true,
    "scrolled": true
   },
   "outputs": [
    {
     "data": {
      "image/png": "[encoded data removed]",
      "text/plain": [
       "<Figure size 432x288 with 1 Axes>"
      ]
     },
     "metadata": {
      "needs_background": "light"
     },
     "output_type": "display_data"
    }
   ],
   "source": [
    "list_preco_medio_area = []\n",
    "for index in list(range(0, 4)):\n",
    "    list_preco_medio_area.append(df.query(f'fx_area == {index}')['preco'].mean())\n",
    "    \n",
    "df_graph = pd.DataFrame()\n",
    "df_graph['pr_md_area'] = list_preco_medio_area\n",
    "df_graph['fx_area'] = list(range(0, 4))\n",
    "\n",
    "fig, ax = plt.subplots()\n",
    "ax.plot(df_graph['fx_area'], df_graph['pr_md_area'])\n",
    "ax.set_title('Preço médio por faixa de area')\n",
    "ax.set_ylabel('Preço Médio')\n",
    "ax.set_xlabel('Faixa de Area')\n",
    "plt.show()"
   ]
  },
  {
   "cell_type": "markdown",
   "id": "37040435",
   "metadata": {
    "hidden": true
   },
   "source": [
    "- É notado que a subida da mediana entre as classes é acompanhado pelo os valores da média também "
   ]
  },
  {
   "cell_type": "markdown",
   "id": "444ba928",
   "metadata": {
    "heading_collapsed": true,
    "hidden": true
   },
   "source": [
    "## Garagem"
   ]
  },
  {
   "cell_type": "code",
   "execution_count": 30,
   "id": "beb24dc5",
   "metadata": {
    "ExecuteTime": {
     "end_time": "2023-04-24T14:24:21.487295Z",
     "start_time": "2023-04-24T14:24:20.925645Z"
    },
    "hidden": true,
    "scrolled": false
   },
   "outputs": [
    {
     "data": {
      "image/png": "[encoded data removed]",
      "text/plain": [
       "<Figure size 432x288 with 1 Axes>"
      ]
     },
     "metadata": {
      "needs_background": "light"
     },
     "output_type": "display_data"
    },
    {
     "data": {
      "image/png": "[encoded data removed]",
      "text/plain": [
       "<Figure size 432x288 with 1 Axes>"
      ]
     },
     "metadata": {
      "needs_background": "light"
     },
     "output_type": "display_data"
    }
   ],
   "source": [
    "for col in ['area', 'preco']:\n",
    "    fig, ax = plt.subplots()\n",
    "    ax.scatter(x='garagem', y=col, data=df)\n",
    "    ax.set_title(f'Garagem X {col}')\n",
    "    ax.set_ylabel(col)\n",
    "    ax.set_xlabel('Garagem')\n",
    "    plt.show()"
   ]
  },
  {
   "cell_type": "markdown",
   "id": "89033e17",
   "metadata": {
    "hidden": true
   },
   "source": [
    "- Não é possivel identificar padrões no grafico de disperção"
   ]
  },
  {
   "cell_type": "markdown",
   "id": "97c4dd7e",
   "metadata": {
    "hidden": true
   },
   "source": [
    "---"
   ]
  },
  {
   "cell_type": "code",
   "execution_count": 31,
   "id": "5229d8a1",
   "metadata": {
    "ExecuteTime": {
     "end_time": "2023-04-24T14:24:22.926432Z",
     "start_time": "2023-04-24T14:24:22.617623Z"
    },
    "hidden": true,
    "scrolled": true
   },
   "outputs": [
    {
     "data": {
      "image/png": "[encoded data removed]",
      "text/plain": [
       "<Figure size 432x288 with 1 Axes>"
      ]
     },
     "metadata": {
      "needs_background": "light"
     },
     "output_type": "display_data"
    }
   ],
   "source": [
    "list_preco_medio = []\n",
    "for index in list(range(0, 4)):\n",
    "    list_preco_medio.append(df.query(f'garagem == {index}')['preco'].mean())\n",
    "    \n",
    "df_graph = pd.DataFrame()\n",
    "df_graph['pr_md'] = list_preco_medio\n",
    "df_graph['garagem'] = list(range(0, 4))\n",
    "\n",
    "fig, ax = plt.subplots()\n",
    "plt.plot(df_graph['garagem'], df_graph['pr_md'])\n",
    "ax.set_title('Preço médio por quantidade de garagem')\n",
    "ax.set_ylabel('Preço Médio')\n",
    "ax.set_xlabel('Garagem')\n",
    "plt.show()\n"
   ]
  },
  {
   "cell_type": "markdown",
   "id": "85794c3f",
   "metadata": {
    "hidden": true
   },
   "source": [
    "- Há uma crecente na média dos preços por quantidade de garagem."
   ]
  },
  {
   "cell_type": "markdown",
   "id": "bbb067cd",
   "metadata": {
    "heading_collapsed": true,
    "hidden": true
   },
   "source": [
    "## Lareira"
   ]
  },
  {
   "cell_type": "code",
   "execution_count": 32,
   "id": "0a499a37",
   "metadata": {
    "ExecuteTime": {
     "end_time": "2023-04-24T14:24:24.901441Z",
     "start_time": "2023-04-24T14:24:24.323595Z"
    },
    "hidden": true,
    "scrolled": false
   },
   "outputs": [
    {
     "data": {
      "image/png": "[encoded data removed]",
      "text/plain": [
       "<Figure size 432x288 with 1 Axes>"
      ]
     },
     "metadata": {
      "needs_background": "light"
     },
     "output_type": "display_data"
    },
    {
     "data": {
      "image/png": "[encoded data removed]",
      "text/plain": [
       "<Figure size 432x288 with 1 Axes>"
      ]
     },
     "metadata": {
      "needs_background": "light"
     },
     "output_type": "display_data"
    }
   ],
   "source": [
    "for col in ['preco', 'area']:\n",
    "    fig, ax = plt.subplots()\n",
    "    ax.scatter(x='lareira', y=col, data=df)\n",
    "    ax.set_title(f'Lareira X {col}')\n",
    "    ax.set_ylabel(col)\n",
    "    ax.set_xlabel('Lareira')\n",
    "    plt.show()"
   ]
  },
  {
   "cell_type": "markdown",
   "id": "2b48623a",
   "metadata": {
    "hidden": true
   },
   "source": [
    "- Não é possivel notar padrões no grafico de disperção"
   ]
  },
  {
   "cell_type": "markdown",
   "id": "1039ae04",
   "metadata": {
    "hidden": true
   },
   "source": [
    "---"
   ]
  },
  {
   "cell_type": "code",
   "execution_count": 33,
   "id": "9886a7f5",
   "metadata": {
    "ExecuteTime": {
     "end_time": "2023-04-24T14:24:26.287399Z",
     "start_time": "2023-04-24T14:24:26.009573Z"
    },
    "hidden": true,
    "scrolled": true
   },
   "outputs": [
    {
     "data": {
      "image/png": "[encoded data removed]",
      "text/plain": [
       "<Figure size 432x288 with 1 Axes>"
      ]
     },
     "metadata": {
      "needs_background": "light"
     },
     "output_type": "display_data"
    }
   ],
   "source": [
    "list_preco_medio = []\n",
    "for index in list(range(0, 4)):\n",
    "    list_preco_medio.append(df.query(f'lareira == {index}')['preco'].mean())\n",
    "    \n",
    "df_graph = pd.DataFrame()\n",
    "df_graph['pr_md'] = list_preco_medio\n",
    "df_graph['lareira'] = list(range(0, 4))\n",
    "\n",
    "fig, ax = plt.subplots()\n",
    "plt.plot(df_graph['lareira'], df_graph['pr_md'])\n",
    "ax.set_title('Preço médio por quantidade de lareira')\n",
    "ax.set_ylabel('Preço Médio')\n",
    "ax.set_xlabel('Lareiras')\n",
    "plt.show()"
   ]
  },
  {
   "cell_type": "markdown",
   "id": "79b4a632",
   "metadata": {
    "ExecuteTime": {
     "end_time": "2023-04-23T15:57:27.164578Z",
     "start_time": "2023-04-23T15:57:27.106617Z"
    },
    "hidden": true
   },
   "source": [
    "- Há uma crecente na média dos preços por quantidade de lareira."
   ]
  },
  {
   "cell_type": "markdown",
   "id": "50346a2e",
   "metadata": {
    "heading_collapsed": true,
    "hidden": true
   },
   "source": [
    "## Banheiro"
   ]
  },
  {
   "cell_type": "code",
   "execution_count": 34,
   "id": "a0190fa8",
   "metadata": {
    "ExecuteTime": {
     "end_time": "2023-04-24T14:24:28.307161Z",
     "start_time": "2023-04-24T14:24:27.697528Z"
    },
    "hidden": true,
    "scrolled": false
   },
   "outputs": [
    {
     "data": {
      "image/png": "[encoded data removed]",
      "text/plain": [
       "<Figure size 432x288 with 1 Axes>"
      ]
     },
     "metadata": {
      "needs_background": "light"
     },
     "output_type": "display_data"
    },
    {
     "data": {
      "image/png": "[encoded data removed]",
      "text/plain": [
       "<Figure size 432x288 with 1 Axes>"
      ]
     },
     "metadata": {
      "needs_background": "light"
     },
     "output_type": "display_data"
    }
   ],
   "source": [
    "for col in ['preco', 'area']:\n",
    "    fig, ax = plt.subplots()\n",
    "    ax.scatter(x='banheiro', y=col, data=df)\n",
    "    ax.set_title(f'Banheiro X {col}')\n",
    "    ax.set_ylabel(col)\n",
    "    ax.set_xlabel('Banheiro')\n",
    "    plt.show()"
   ]
  },
  {
   "cell_type": "markdown",
   "id": "a8725958",
   "metadata": {
    "hidden": true
   },
   "source": [
    "- Há uma crecente nos valores mais altos por quantidade de banheiro quando comparamos com o preço."
   ]
  },
  {
   "cell_type": "markdown",
   "id": "8c351732",
   "metadata": {
    "hidden": true
   },
   "source": [
    "---"
   ]
  },
  {
   "cell_type": "code",
   "execution_count": 35,
   "id": "f02afdc0",
   "metadata": {
    "ExecuteTime": {
     "end_time": "2023-04-24T14:24:29.701313Z",
     "start_time": "2023-04-24T14:24:29.360526Z"
    },
    "hidden": true,
    "scrolled": true
   },
   "outputs": [
    {
     "data": {
      "image/png": "[encoded data removed]",
      "text/plain": [
       "<Figure size 864x288 with 1 Axes>"
      ]
     },
     "metadata": {
      "needs_background": "light"
     },
     "output_type": "display_data"
    }
   ],
   "source": [
    "ax = sns.boxplot(x='preco', y='banheiro', data=df, orient='h')\n",
    "ax.set_title('Preço X Quantidade de Banheiros')\n",
    "ax.figure.set_size_inches(12, 4)\n",
    "plt.show()"
   ]
  },
  {
   "cell_type": "code",
   "execution_count": 36,
   "id": "f666543f",
   "metadata": {
    "ExecuteTime": {
     "end_time": "2023-04-24T14:24:30.249974Z",
     "start_time": "2023-04-24T14:24:29.931171Z"
    },
    "hidden": true,
    "scrolled": true
   },
   "outputs": [
    {
     "data": {
      "image/png": "[encoded data removed]",
      "text/plain": [
       "<Figure size 432x288 with 1 Axes>"
      ]
     },
     "metadata": {
      "needs_background": "light"
     },
     "output_type": "display_data"
    }
   ],
   "source": [
    "list_preco_medio = []\n",
    "for index in list(range(0, 6)):\n",
    "    list_preco_medio.append(df.query(f'banheiro == {index}')['preco'].mean())\n",
    "    \n",
    "df_graph = pd.DataFrame()\n",
    "df_graph['pr_md'] = list_preco_medio\n",
    "df_graph['banheiro'] = list(range(0, 6))\n",
    "\n",
    "fig, ax = plt.subplots()\n",
    "plt.plot(df_graph['banheiro'], df_graph['pr_md'])\n",
    "ax.set_title('Preço médio por banheiros')\n",
    "ax.set_ylabel('Preço Médio')\n",
    "ax.set_xlabel('Banheiros')\n",
    "plt.show()"
   ]
  },
  {
   "cell_type": "markdown",
   "id": "f4830977",
   "metadata": {
    "hidden": true
   },
   "source": [
    "- Há uma crecente na média dos preços por quantidade de banheiros."
   ]
  },
  {
   "cell_type": "code",
   "execution_count": 37,
   "id": "e9c1511b",
   "metadata": {
    "ExecuteTime": {
     "end_time": "2023-04-24T14:24:31.412280Z",
     "start_time": "2023-04-24T14:24:31.052504Z"
    },
    "hidden": true
   },
   "outputs": [
    {
     "data": {
      "image/png": "[encoded data removed]",
      "text/plain": [
       "<Figure size 864x288 with 1 Axes>"
      ]
     },
     "metadata": {
      "needs_background": "light"
     },
     "output_type": "display_data"
    }
   ],
   "source": [
    "labels = [0,1,2]\n",
    "df['fx_qtd_banheiro'] = pd.cut(x = df.banheiro,\n",
    "                                bins = [1,2,3,5],\n",
    "                                labels = labels,\n",
    "                                include_lowest = True)\n",
    "\n",
    "ax = sns.boxplot(x='preco', y='fx_qtd_banheiro', data=df, orient='h')\n",
    "ax.set_title('Preço X Banheiro')\n",
    "ax.legend(['[0] 1-2 banheiros', '[1] 3 banheiros', '[2] 4-5 banheiros'], title='Quantidade de Banheiros', loc=3)\n",
    "ax.figure.set_size_inches(12, 4)\n",
    "plt.show()"
   ]
  },
  {
   "cell_type": "code",
   "execution_count": 38,
   "id": "285b410c",
   "metadata": {
    "ExecuteTime": {
     "end_time": "2023-04-24T14:24:32.077865Z",
     "start_time": "2023-04-24T14:24:31.772064Z"
    },
    "hidden": true
   },
   "outputs": [
    {
     "data": {
      "image/png": "[encoded data removed]",
      "text/plain": [
       "<Figure size 432x288 with 1 Axes>"
      ]
     },
     "metadata": {
      "needs_background": "light"
     },
     "output_type": "display_data"
    }
   ],
   "source": [
    "list_preco_medio = []\n",
    "for index in list(range(0, 3)):\n",
    "    list_preco_medio.append(df.query(f'fx_qtd_banheiro == {index}')['preco'].mean())\n",
    "    \n",
    "df_graph = pd.DataFrame()\n",
    "df_graph['pr_md'] = list_preco_medio\n",
    "df_graph['fx_qtd_banheiro'] = list(range(0, 3))\n",
    "\n",
    "fig, ax = plt.subplots()\n",
    "plt.plot(df_graph['fx_qtd_banheiro'], df_graph['pr_md'])\n",
    "ax.set_title('Preço médio por quantidade de banheiros')\n",
    "ax.set_ylabel('Preço Médio')\n",
    "ax.set_xlabel('banheiros')\n",
    "plt.show()"
   ]
  },
  {
   "cell_type": "markdown",
   "id": "0e6fee48",
   "metadata": {
    "hidden": true
   },
   "source": [
    "- Foi agrupado algumas classes para que crecente positiva possa ser mais visivel"
   ]
  },
  {
   "cell_type": "markdown",
   "id": "3197a74f",
   "metadata": {
    "heading_collapsed": true
   },
   "source": [
    "# Pré Processamento dos Dados"
   ]
  },
  {
   "cell_type": "code",
   "execution_count": 39,
   "id": "a20b5a13",
   "metadata": {
    "ExecuteTime": {
     "end_time": "2023-04-24T14:24:33.397453Z",
     "start_time": "2023-04-24T14:24:33.369469Z"
    },
    "hidden": true
   },
   "outputs": [],
   "source": [
    "from sklearn.preprocessing import MinMaxScaler\n",
    "\n",
    "X = df.drop(columns=['preco', 'area', 'banheiro'])\n",
    "y = df['preco']\n",
    "\n",
    "norm = MinMaxScaler()\n",
    "X_norm = norm.fit_transform(X)\n",
    "\n",
    "SEED = 123\n",
    "np.random.seed(SEED)\n",
    "\n",
    "from sklearn.model_selection import train_test_split\n",
    "X_train, X_test, y_train, y_test = train_test_split(X_norm, y, test_size=0.3)"
   ]
  },
  {
   "cell_type": "markdown",
   "id": "126b4afb",
   "metadata": {
    "heading_collapsed": true
   },
   "source": [
    "# Modelando"
   ]
  },
  {
   "cell_type": "markdown",
   "id": "c34db4d9",
   "metadata": {
    "heading_collapsed": true,
    "hidden": true
   },
   "source": [
    "## Regressão Linear"
   ]
  },
  {
   "cell_type": "code",
   "execution_count": 40,
   "id": "726e1a7d",
   "metadata": {
    "ExecuteTime": {
     "end_time": "2023-04-24T14:24:35.344927Z",
     "start_time": "2023-04-24T14:24:35.249444Z"
    },
    "hidden": true
   },
   "outputs": [],
   "source": [
    "lr = LinearRegression()\n",
    "lr.fit(X_train, y_train)\n",
    "y_pred_lr = lr.predict(X_test)"
   ]
  },
  {
   "cell_type": "markdown",
   "id": "7599480e",
   "metadata": {
    "heading_collapsed": true,
    "hidden": true
   },
   "source": [
    "## KNN"
   ]
  },
  {
   "cell_type": "code",
   "execution_count": 41,
   "id": "560eff8e",
   "metadata": {
    "ExecuteTime": {
     "end_time": "2023-04-24T14:24:36.804156Z",
     "start_time": "2023-04-24T14:24:36.372426Z"
    },
    "hidden": true,
    "scrolled": true
   },
   "outputs": [
    {
     "data": {
      "image/png": "[encoded data removed]",
      "text/plain": [
       "<Figure size 432x288 with 1 Axes>"
      ]
     },
     "metadata": {
      "needs_background": "light"
     },
     "output_type": "display_data"
    }
   ],
   "source": [
    "r2_list=[]\n",
    "for nn in list(range(1,21)):\n",
    "    kn = KNeighborsRegressor(n_neighbors=nn)\n",
    "    kn.fit(X_train, y_train)\n",
    "    y_pred_kn = kn.predict(X_test)\n",
    "    \n",
    "    score_r2=r2(y_test, y_pred_kn).round(4)\n",
    "    r2_list.append(score_r2)\n",
    "\n",
    "df_graph = pd.DataFrame()\n",
    "df_graph['R2-Score']= r2_list\n",
    "df_graph['N_vizinhos']=list(range(1,21))\n",
    "    \n",
    "fig, ax = plt.subplots()\n",
    "plt.plot(df_graph['N_vizinhos'], df_graph['R2-Score'])\n",
    "ax.grid()\n",
    "ax.set_title('R2-Score por Numero de Vizinhos')\n",
    "ax.set_ylabel('R2-Score')\n",
    "ax.set_xlabel('Numero de Vizinhos')\n",
    "plt.show()"
   ]
  },
  {
   "cell_type": "code",
   "execution_count": 42,
   "id": "0e0ae317",
   "metadata": {
    "ExecuteTime": {
     "end_time": "2023-04-24T14:24:37.359811Z",
     "start_time": "2023-04-24T14:24:37.333827Z"
    },
    "hidden": true,
    "scrolled": false
   },
   "outputs": [
    {
     "data": {
      "text/html": [
       "<div>\n",
       "<style scoped>\n",
       "    .dataframe tbody tr th:only-of-type {\n",
       "        vertical-align: middle;\n",
       "    }\n",
       "\n",
       "    .dataframe tbody tr th {\n",
       "        vertical-align: top;\n",
       "    }\n",
       "\n",
       "    .dataframe thead th {\n",
       "        text-align: right;\n",
       "    }\n",
       "</style>\n",
       "<table border=\"1\" class=\"dataframe\">\n",
       "  <thead>\n",
       "    <tr style=\"text-align: right;\">\n",
       "      <th></th>\n",
       "      <th>R2-Score</th>\n",
       "      <th>N_vizinhos</th>\n",
       "    </tr>\n",
       "  </thead>\n",
       "  <tbody>\n",
       "    <tr>\n",
       "      <th>10</th>\n",
       "      <td>0.6094</td>\n",
       "      <td>11</td>\n",
       "    </tr>\n",
       "    <tr>\n",
       "      <th>11</th>\n",
       "      <td>0.6139</td>\n",
       "      <td>12</td>\n",
       "    </tr>\n",
       "    <tr>\n",
       "      <th>12</th>\n",
       "      <td>0.6142</td>\n",
       "      <td>13</td>\n",
       "    </tr>\n",
       "    <tr>\n",
       "      <th>13</th>\n",
       "      <td>0.6123</td>\n",
       "      <td>14</td>\n",
       "    </tr>\n",
       "    <tr>\n",
       "      <th>14</th>\n",
       "      <td>0.6163</td>\n",
       "      <td>15</td>\n",
       "    </tr>\n",
       "    <tr>\n",
       "      <th>15</th>\n",
       "      <td>0.6170</td>\n",
       "      <td>16</td>\n",
       "    </tr>\n",
       "    <tr>\n",
       "      <th>16</th>\n",
       "      <td>0.6119</td>\n",
       "      <td>17</td>\n",
       "    </tr>\n",
       "    <tr>\n",
       "      <th>17</th>\n",
       "      <td>0.6118</td>\n",
       "      <td>18</td>\n",
       "    </tr>\n",
       "    <tr>\n",
       "      <th>18</th>\n",
       "      <td>0.6130</td>\n",
       "      <td>19</td>\n",
       "    </tr>\n",
       "    <tr>\n",
       "      <th>19</th>\n",
       "      <td>0.6108</td>\n",
       "      <td>20</td>\n",
       "    </tr>\n",
       "  </tbody>\n",
       "</table>\n",
       "</div>"
      ],
      "text/plain": [
       "    R2-Score  N_vizinhos\n",
       "10    0.6094          11\n",
       "11    0.6139          12\n",
       "12    0.6142          13\n",
       "13    0.6123          14\n",
       "14    0.6163          15\n",
       "15    0.6170          16\n",
       "16    0.6119          17\n",
       "17    0.6118          18\n",
       "18    0.6130          19\n",
       "19    0.6108          20"
      ]
     },
     "execution_count": 42,
     "metadata": {},
     "output_type": "execute_result"
    }
   ],
   "source": [
    "df_graph.query('N_vizinhos > 10')"
   ]
  },
  {
   "cell_type": "markdown",
   "id": "a24abbb3",
   "metadata": {
    "hidden": true
   },
   "source": [
    "Notamos o R2-Score fica \"constante\" após 11° vizinhos, chegando a marca de 61.39% de R2-Score."
   ]
  },
  {
   "cell_type": "code",
   "execution_count": 43,
   "id": "5f21854f",
   "metadata": {
    "ExecuteTime": {
     "end_time": "2023-04-24T14:24:38.170387Z",
     "start_time": "2023-04-24T14:24:38.146402Z"
    },
    "hidden": true
   },
   "outputs": [],
   "source": [
    "kn = KNeighborsRegressor(n_neighbors=11)\n",
    "kn.fit(X_train, y_train)\n",
    "y_pred_kn = kn.predict(X_test)"
   ]
  },
  {
   "cell_type": "markdown",
   "id": "618175c7",
   "metadata": {
    "heading_collapsed": true,
    "hidden": true
   },
   "source": [
    "## Decision Tree"
   ]
  },
  {
   "cell_type": "code",
   "execution_count": 44,
   "id": "e4910638",
   "metadata": {
    "ExecuteTime": {
     "end_time": "2023-04-24T14:24:39.610559Z",
     "start_time": "2023-04-24T14:24:39.209385Z"
    },
    "hidden": true,
    "scrolled": true
   },
   "outputs": [
    {
     "data": {
      "image/png": "[encoded data removed]",
      "text/plain": [
       "<Figure size 432x288 with 1 Axes>"
      ]
     },
     "metadata": {
      "needs_background": "light"
     },
     "output_type": "display_data"
    }
   ],
   "source": [
    "dtr_list=[]\n",
    "for depth in list(range(1,11)):\n",
    "    dtr = DecisionTreeRegressor(max_depth=depth)\n",
    "    dtr.fit(X_train, y_train)\n",
    "    y_pred_dtr = dtr.predict(X_test)\n",
    "    \n",
    "    score_r2=r2(y_test, y_pred_dtr).round(4)\n",
    "    dtr_list.append(score_r2)\n",
    "\n",
    "df_graph = pd.DataFrame()\n",
    "df_graph['R2-Score']= dtr_list\n",
    "df_graph['Profundidade']=list(range(1,11))\n",
    "    \n",
    "fig, ax = plt.subplots()\n",
    "plt.plot(df_graph['Profundidade'], df_graph['R2-Score'])\n",
    "ax.grid()\n",
    "ax.set_title('R2-Score por Profundidade da Arvore')\n",
    "ax.set_ylabel('R2-Score')\n",
    "ax.set_xlabel('Profundidade')\n",
    "plt.show()"
   ]
  },
  {
   "cell_type": "code",
   "execution_count": 45,
   "id": "49ddd3ba",
   "metadata": {
    "ExecuteTime": {
     "end_time": "2023-04-24T14:24:40.106251Z",
     "start_time": "2023-04-24T14:24:40.077270Z"
    },
    "hidden": true
   },
   "outputs": [
    {
     "data": {
      "text/html": [
       "<div>\n",
       "<style scoped>\n",
       "    .dataframe tbody tr th:only-of-type {\n",
       "        vertical-align: middle;\n",
       "    }\n",
       "\n",
       "    .dataframe tbody tr th {\n",
       "        vertical-align: top;\n",
       "    }\n",
       "\n",
       "    .dataframe thead th {\n",
       "        text-align: right;\n",
       "    }\n",
       "</style>\n",
       "<table border=\"1\" class=\"dataframe\">\n",
       "  <thead>\n",
       "    <tr style=\"text-align: right;\">\n",
       "      <th></th>\n",
       "      <th>R2-Score</th>\n",
       "      <th>Profundidade</th>\n",
       "    </tr>\n",
       "  </thead>\n",
       "  <tbody>\n",
       "    <tr>\n",
       "      <th>0</th>\n",
       "      <td>0.3649</td>\n",
       "      <td>1</td>\n",
       "    </tr>\n",
       "    <tr>\n",
       "      <th>1</th>\n",
       "      <td>0.5492</td>\n",
       "      <td>2</td>\n",
       "    </tr>\n",
       "    <tr>\n",
       "      <th>2</th>\n",
       "      <td>0.5693</td>\n",
       "      <td>3</td>\n",
       "    </tr>\n",
       "    <tr>\n",
       "      <th>3</th>\n",
       "      <td>0.5789</td>\n",
       "      <td>4</td>\n",
       "    </tr>\n",
       "    <tr>\n",
       "      <th>4</th>\n",
       "      <td>0.5717</td>\n",
       "      <td>5</td>\n",
       "    </tr>\n",
       "    <tr>\n",
       "      <th>5</th>\n",
       "      <td>0.5273</td>\n",
       "      <td>6</td>\n",
       "    </tr>\n",
       "  </tbody>\n",
       "</table>\n",
       "</div>"
      ],
      "text/plain": [
       "   R2-Score  Profundidade\n",
       "0    0.3649             1\n",
       "1    0.5492             2\n",
       "2    0.5693             3\n",
       "3    0.5789             4\n",
       "4    0.5717             5\n",
       "5    0.5273             6"
      ]
     },
     "execution_count": 45,
     "metadata": {},
     "output_type": "execute_result"
    }
   ],
   "source": [
    "df_graph.query('Profundidade <= 6')"
   ]
  },
  {
   "cell_type": "markdown",
   "id": "6e4c8636",
   "metadata": {
    "hidden": true
   },
   "source": [
    "O R2-Score chega ao seu limite na profundidade 4, chegando a 57.89% de R2-Score."
   ]
  },
  {
   "cell_type": "code",
   "execution_count": 46,
   "id": "c4974d73",
   "metadata": {
    "ExecuteTime": {
     "end_time": "2023-04-24T14:24:40.926354Z",
     "start_time": "2023-04-24T14:24:40.913363Z"
    },
    "hidden": true
   },
   "outputs": [],
   "source": [
    "dtr = DecisionTreeRegressor(max_depth=5)\n",
    "dtr.fit(X_train, y_train)\n",
    "y_pred_dtr = dtr.predict(X_test)"
   ]
  },
  {
   "cell_type": "markdown",
   "id": "5ba14e9a",
   "metadata": {
    "heading_collapsed": true
   },
   "source": [
    "# Avaliando os Modelos"
   ]
  },
  {
   "cell_type": "code",
   "execution_count": 47,
   "id": "8a1cff14",
   "metadata": {
    "ExecuteTime": {
     "end_time": "2023-04-24T14:24:42.074338Z",
     "start_time": "2023-04-24T14:24:42.059347Z"
    },
    "hidden": true
   },
   "outputs": [],
   "source": [
    "def avaliando_modelo(y_test, y_pred, model):    \n",
    "    print(f'{model} ------------------')\n",
    "    print(f'R²Score: {r2(y_test, y_pred) * 100:.4f}%')\n",
    "    MAE = mean_absolute_error(y_test,y_pred)\n",
    "    print(f'Erro Médio Absoluto: {MAE:.4f}')\n",
    "    RMSE = mean_squared_error(y_test,y_pred,squared=False) \n",
    "    print(f'Raiz do erro quadrático médio: {RMSE:.4f}')"
   ]
  },
  {
   "cell_type": "markdown",
   "id": "0b81388d",
   "metadata": {
    "hidden": true
   },
   "source": [
    "---"
   ]
  },
  {
   "cell_type": "code",
   "execution_count": 48,
   "id": "b039d974",
   "metadata": {
    "ExecuteTime": {
     "end_time": "2023-04-24T14:24:43.142319Z",
     "start_time": "2023-04-24T14:24:43.121331Z"
    },
    "hidden": true
   },
   "outputs": [
    {
     "name": "stdout",
     "output_type": "stream",
     "text": [
      "Linear Regressor ------------------\n",
      "R²Score: 62.4044%\n",
      "Erro Médio Absoluto: 6296.3862\n",
      "Raiz do erro quadrático médio: 7482.9139\n"
     ]
    }
   ],
   "source": [
    "avaliando_modelo(y_test, y_pred_lr, 'Linear Regressor')"
   ]
  },
  {
   "cell_type": "code",
   "execution_count": 49,
   "id": "c982a2f3",
   "metadata": {
    "ExecuteTime": {
     "end_time": "2023-04-24T14:24:43.680984Z",
     "start_time": "2023-04-24T14:24:43.661996Z"
    },
    "hidden": true
   },
   "outputs": [
    {
     "name": "stdout",
     "output_type": "stream",
     "text": [
      "KNN ------------------\n",
      "R²Score: 60.9382%\n",
      "Erro Médio Absoluto: 6398.5833\n",
      "Raiz do erro quadrático médio: 7627.4296\n"
     ]
    }
   ],
   "source": [
    "avaliando_modelo(y_test, y_pred_kn, 'KNN')"
   ]
  },
  {
   "cell_type": "code",
   "execution_count": 50,
   "id": "504d90e9",
   "metadata": {
    "ExecuteTime": {
     "end_time": "2023-04-24T14:24:44.204656Z",
     "start_time": "2023-04-24T14:24:44.183670Z"
    },
    "hidden": true
   },
   "outputs": [
    {
     "name": "stdout",
     "output_type": "stream",
     "text": [
      "Decision Tree Regressor ------------------\n",
      "R²Score: 57.1693%\n",
      "Erro Médio Absoluto: 6609.0412\n",
      "Raiz do erro quadrático médio: 7986.9329\n"
     ]
    }
   ],
   "source": [
    "avaliando_modelo(y_test, y_pred_dtr, 'Decision Tree Regressor')"
   ]
  },
  {
   "cell_type": "markdown",
   "id": "f288e7fb",
   "metadata": {
    "heading_collapsed": true
   },
   "source": [
    "# Conclusão"
   ]
  },
  {
   "cell_type": "markdown",
   "id": "d40e5bda",
   "metadata": {
    "hidden": true
   },
   "source": [
    "As melhores métricas são do modelo de Regressão Linear. Pois ela possui o menor erro médio absoluto, o menor valor na metrica \"Raiz do erro quadrático médio\" e ela tem o maior score do R²."
   ]
  }
 ],
 "metadata": {
  "kernelspec": {
   "display_name": "Python 3",
   "language": "python",
   "name": "python3"
  },
  "language_info": {
   "codemirror_mode": {
    "name": "ipython",
    "version": 3
   },
   "file_extension": ".py",
   "mimetype": "text/x-python",
   "name": "python",
   "nbconvert_exporter": "python",
   "pygments_lexer": "ipython3",
   "version": "3.8.8"
  },
  "nbTranslate": {
   "displayLangs": [
    "*"
   ],
   "hotkey": "alt-t",
   "langInMainMenu": true,
   "sourceLang": "en",
   "targetLang": "fr",
   "useGoogleTranslate": true
  },
  "varInspector": {
   "cols": {
    "lenName": 16,
    "lenType": 16,
    "lenVar": 40
   },
   "kernels_config": {
    "python": {
     "delete_cmd_postfix": "",
     "delete_cmd_prefix": "del ",
     "library": "var_list.py",
     "varRefreshCmd": "print(var_dic_list())"
    },
    "r": {
     "delete_cmd_postfix": ") ",
     "delete_cmd_prefix": "rm(",
     "library": "var_list.r",
     "varRefreshCmd": "cat(var_dic_list()) "
    }
   },
   "types_to_exclude": [
    "module",
    "function",
    "builtin_function_or_method",
    "instance",
    "_Feature"
   ],
   "window_display": false
  }
 },
 "nbformat": 4,
 "nbformat_minor": 5
}
